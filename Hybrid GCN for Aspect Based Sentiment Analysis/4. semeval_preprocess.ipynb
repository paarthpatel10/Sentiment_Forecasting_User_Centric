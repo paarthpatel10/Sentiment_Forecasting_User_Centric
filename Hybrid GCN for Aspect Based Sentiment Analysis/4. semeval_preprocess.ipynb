{
 "cells": [
  {
   "cell_type": "markdown",
   "metadata": {},
   "source": [
    "Downloading the file to data/ directory and verifying the file"
   ]
  },
  {
   "cell_type": "code",
   "execution_count": null,
   "metadata": {},
   "outputs": [
    {
     "name": "stderr",
     "output_type": "stream",
     "text": [
      "Downloading...\n",
      "From (original): https://drive.google.com/uc?id=1IyDLXcIGnrLhsvJ-CCRoOGNxQKCn7f7x\n",
      "From (redirected): https://drive.google.com/uc?id=1IyDLXcIGnrLhsvJ-CCRoOGNxQKCn7f7x&confirm=t&uuid=c6a9d8fc-cc1b-4a60-8788-6f0f7b5f37ad\n",
      "To: /teamspace/studios/this_studio/data/Restaurants_Train.xml\n",
      "100%|██████████| 1.24M/1.24M [00:00<00:00, 72.2MB/s]"
     ]
    },
    {
     "name": "stdout",
     "output_type": "stream",
     "text": [
      "File downloaded. Checking contents:\n",
      "<?xml version=\"1.0\" encoding=\"UTF-8\" standalone=\"yes\"?>\n",
      "<sentences>\n",
      "    <sentence id=\"3121\">\n",
      "        <text>But the staff was so horrible to us.</text>\n",
      "        <aspectTerms>\n",
      "            <aspectTerm term=\"staff\" polarity=\"negative\" from=\"8\" to=\"13\"/>\n",
      "        </aspectTerms>\n",
      "        <aspectCategories>\n",
      "            <aspectCategory category=\"service\" polarity=\"negative\"/>\n",
      "        </aspectCategories>\n",
      "    </sentence>\n",
      "    <sentence id=\"2777\">\n",
      "        <text>To be completely fair, the only redeeming factor \n"
     ]
    },
    {
     "name": "stderr",
     "output_type": "stream",
     "text": [
      "\n"
     ]
    }
   ],
   "source": [
    "import gdown\n",
    "\n",
    "file_id = \"1IyDLXcIGnrLhsvJ-CCRoOGNxQKCn7f7x\"\n",
    "url = f\"https://drive.google.com/uc?id={file_id}\"\n",
    "\n",
    "output_path = \"data/Restaurants_Train.xml\"\n",
    "gdown.download(url, output_path, quiet=False)\n",
    "\n",
    "print(\"File downloaded. Checking contents:\")\n",
    "with open(output_path, 'r', encoding='utf-8') as f:\n",
    "    print(f.read()[:500]) "
   ]
  },
  {
   "cell_type": "markdown",
   "metadata": {},
   "source": [
    "Verifying the file and Loading and splitting into train/validation"
   ]
  },
  {
   "cell_type": "code",
   "execution_count": null,
   "metadata": {},
   "outputs": [
    {
     "name": "stdout",
     "output_type": "stream",
     "text": [
      "Loaded 200 SemEval sentences (Train: 160, Val: 40)\n",
      "First 5 rows of train data:\n",
      "                                            sentence   aspect sentiment\n",
      "0               But the staff was so horrible to us.    staff  negative\n",
      "1  To be completely fair, the only redeeming fact...     food  positive\n",
      "2  The food is uniformly exceptional, with a very...     food  positive\n",
      "3  The food is uniformly exceptional, with a very...  kitchen  positive\n",
      "4  The food is uniformly exceptional, with a very...     menu   neutral\n",
      "Sentiment distribution (train):\n",
      "positive    99\n",
      "neutral     30\n",
      "negative    27\n",
      "conflict     4\n",
      "Name: sentiment, dtype: int64\n",
      "Sentiment distribution (val):\n",
      "positive    20\n",
      "neutral     12\n",
      "negative     8\n",
      "Name: sentiment, dtype: int64\n"
     ]
    }
   ],
   "source": [
    "import pandas as pd\n",
    "import xml.etree.ElementTree as ET\n",
    "\n",
    "def parse_semeval(xml_path):\n",
    "    tree = ET.parse(xml_path)\n",
    "    root = tree.getroot()\n",
    "    data = []\n",
    "    for sentence in root.findall('.//sentence'):\n",
    "        text = sentence.find('text').text\n",
    "        for aspect_term in sentence.findall('.//aspectTerm'):\n",
    "            aspect = aspect_term.get('term')\n",
    "            sentiment = aspect_term.get('polarity')\n",
    "            data.append({\n",
    "                'sentence': text,\n",
    "                'aspect': aspect,\n",
    "                'sentiment': sentiment\n",
    "            })\n",
    "    return pd.DataFrame(data)\n",
    "semeval_data = parse_semeval('data/Restaurants_Train.xml')\n",
    "semeval_data = semeval_data[:200]\n",
    "train_data = semeval_data[:160]\n",
    "val_data = semeval_data[:40]\n",
    "train_data.to_csv('data/semeval_train.csv', index=False)\n",
    "val_data.to_csv('data/semeval_val.csv', index=False)\n",
    "print(f\"Loaded {len(semeval_data)} SemEval sentences (Train: {len(train_data)}, Val: {len(val_data)})\")\n",
    "print(\"First 5 rows of train data:\")\n",
    "print(train_data.head())\n",
    "print(\"Sentiment distribution (train):\")\n",
    "print(train_data['sentiment'].value_counts())\n",
    "print(\"Sentiment distribution (val):\")\n",
    "print(val_data['sentiment'].value_counts())"
   ]
  }
 ],
 "metadata": {
  "language_info": {
   "name": "python"
  }
 },
 "nbformat": 4,
 "nbformat_minor": 2
}
