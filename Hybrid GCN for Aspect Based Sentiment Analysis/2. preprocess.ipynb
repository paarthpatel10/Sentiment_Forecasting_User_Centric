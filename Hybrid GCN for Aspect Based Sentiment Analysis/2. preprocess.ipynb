{
 "cells": [
  {
   "cell_type": "code",
   "execution_count": null,
   "metadata": {},
   "outputs": [
    {
     "name": "stderr",
     "output_type": "stream",
     "text": [
      "[nltk_data] Downloading package punkt to\n",
      "[nltk_data]     /teamspace/studios/this_studio/nltk_data...\n",
      "[nltk_data]   Package punkt is already up-to-date!\n"
     ]
    },
    {
     "name": "stdout",
     "output_type": "stream",
     "text": [
      "Total sentences: 144424\n",
      "Columns in processed data: Index(['sentence', 'user_id', 'date', 'stars'], dtype='object')\n"
     ]
    }
   ],
   "source": [
    "import pandas as pd\n",
    "import nltk\n",
    "from nltk.tokenize import sent_tokenize\n",
    "\n",
    "nltk.download('punkt')\n",
    "\n",
    "reviews = pd.read_json('data/yelp_restaurant_reviews.json', lines=True)\n",
    "\n",
    "def clean_text(text):\n",
    "    text = str(text).lower().strip() \n",
    "    text = ''.join(c for c in text if c.isalnum() or c.isspace())\n",
    "    return text\n",
    "\n",
    "sentences = []\n",
    "for _, row in reviews.iterrows():\n",
    "    cleaned = clean_text(row['text'])\n",
    "    sents = sent_tokenize(cleaned)\n",
    "    for sent in sents:\n",
    "        sentences.append({\n",
    "            'sentence': sent,\n",
    "            'user_id': row['user_id'],\n",
    "            'date': row['date'],\n",
    "            'stars': row['stars']\n",
    "        })\n",
    "\n",
    "\n",
    "sentences_df = pd.DataFrame(sentences)\n",
    "sentences_df.to_csv('data/yelp_restaurant_sentences.csv', index=False)\n",
    "print(f\"Total sentences: {len(sentences)}\")\n",
    "print(\"Columns in processed data:\", sentences_df.columns)"
   ]
  },
  {
   "cell_type": "code",
   "execution_count": null,
   "metadata": {},
   "outputs": [
    {
     "name": "stdout",
     "output_type": "stream",
     "text": [
      "First 5 rows:\n",
      "                                            sentence                 user_id  \\\n",
      "0  if you decide to eat here just be aware it is ...  mh_-eMZ6K5RLWhZyISBhwA   \n",
      "1  family diner had the buffet eclectic assortmen...  8g_iMtfSiwikVnbP2etR0A   \n",
      "2  wow  yummy different  delicious   our favorite...  _7bHUi9Uuf5__HHc_Q8guQ   \n",
      "3  cute interior and owner  gave us tour of upcom...  bcjbaE6dDog4jkNY91ncLQ   \n",
      "4  i am a long term frequent customer of this est...  eUta8W_HdHMXPzLBBZhL1A   \n",
      "\n",
      "                  date  stars  \n",
      "0  2018-07-07 22:09:11      3  \n",
      "1  2014-02-05 20:30:30      3  \n",
      "2  2015-01-04 00:01:03      5  \n",
      "3  2017-01-14 20:54:15      4  \n",
      "4  2015-09-23 23:10:31      1  \n",
      "Columns: Index(['sentence', 'user_id', 'date', 'stars'], dtype='object')\n",
      "Number of sentences: 144424\n"
     ]
    }
   ],
   "source": [
    "import pandas as pd\n",
    "\n",
    "\n",
    "sentences_df = pd.read_csv('data/yelp_restaurant_sentences.csv')\n",
    "print(\"First 5 rows:\")\n",
    "print(sentences_df.head())\n",
    "print(\"Columns:\", sentences_df.columns)\n",
    "print(\"Number of sentences:\", len(sentences_df))"
   ]
  }
 ],
 "metadata": {
  "language_info": {
   "name": "python"
  }
 },
 "nbformat": 4,
 "nbformat_minor": 2
}
